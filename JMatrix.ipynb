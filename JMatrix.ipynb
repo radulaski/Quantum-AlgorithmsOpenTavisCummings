{
  "cells": [
    {
      "cell_type": "markdown",
      "source": [
        "**Do not change this version from 0.45**\n",
        "\n"
      ],
      "metadata": {
        "id": "eia7j8eweQio"
      }
    },
    {
      "cell_type": "code",
      "execution_count": null,
      "metadata": {
        "id": "9xYWq4s7xkRG",
        "colab": {
          "base_uri": "https://localhost:8080/"
        },
        "outputId": "18af2e4e-83f6-46e3-8ea2-6d0429440de1"
      },
      "outputs": [
        {
          "output_type": "stream",
          "name": "stdout",
          "text": [
            "Requirement already satisfied: qiskit==0.45 in /usr/local/lib/python3.10/dist-packages (0.45.0)\n",
            "Requirement already satisfied: qiskit_aer in /usr/local/lib/python3.10/dist-packages (0.14.1)\n",
            "Requirement already satisfied: qiskit-terra==0.45.0 in /usr/local/lib/python3.10/dist-packages (from qiskit==0.45) (0.45.0)\n",
            "Requirement already satisfied: rustworkx>=0.13.0 in /usr/local/lib/python3.10/dist-packages (from qiskit-terra==0.45.0->qiskit==0.45) (0.15.1)\n",
            "Requirement already satisfied: numpy<2,>=1.17 in /usr/local/lib/python3.10/dist-packages (from qiskit-terra==0.45.0->qiskit==0.45) (1.26.4)\n",
            "Requirement already satisfied: ply>=3.10 in /usr/local/lib/python3.10/dist-packages (from qiskit-terra==0.45.0->qiskit==0.45) (3.11)\n",
            "Requirement already satisfied: psutil>=5 in /usr/local/lib/python3.10/dist-packages (from qiskit-terra==0.45.0->qiskit==0.45) (5.9.5)\n",
            "Requirement already satisfied: scipy>=1.5 in /usr/local/lib/python3.10/dist-packages (from qiskit-terra==0.45.0->qiskit==0.45) (1.13.1)\n",
            "Requirement already satisfied: sympy>=1.3 in /usr/local/lib/python3.10/dist-packages (from qiskit-terra==0.45.0->qiskit==0.45) (1.13.1)\n",
            "Requirement already satisfied: dill>=0.3 in /usr/local/lib/python3.10/dist-packages (from qiskit-terra==0.45.0->qiskit==0.45) (0.3.9)\n",
            "Requirement already satisfied: python-dateutil>=2.8.0 in /usr/local/lib/python3.10/dist-packages (from qiskit-terra==0.45.0->qiskit==0.45) (2.8.2)\n",
            "Requirement already satisfied: stevedore>=3.0.0 in /usr/local/lib/python3.10/dist-packages (from qiskit-terra==0.45.0->qiskit==0.45) (5.4.0)\n",
            "Requirement already satisfied: symengine<0.10,>=0.9 in /usr/local/lib/python3.10/dist-packages (from qiskit-terra==0.45.0->qiskit==0.45) (0.9.2)\n",
            "Requirement already satisfied: typing-extensions in /usr/local/lib/python3.10/dist-packages (from qiskit-terra==0.45.0->qiskit==0.45) (4.12.2)\n",
            "Requirement already satisfied: six>=1.5 in /usr/local/lib/python3.10/dist-packages (from python-dateutil>=2.8.0->qiskit-terra==0.45.0->qiskit==0.45) (1.16.0)\n",
            "Requirement already satisfied: pbr>=2.0.0 in /usr/local/lib/python3.10/dist-packages (from stevedore>=3.0.0->qiskit-terra==0.45.0->qiskit==0.45) (6.1.0)\n",
            "Requirement already satisfied: mpmath<1.4,>=1.1.0 in /usr/local/lib/python3.10/dist-packages (from sympy>=1.3->qiskit-terra==0.45.0->qiskit==0.45) (1.3.0)\n"
          ]
        }
      ],
      "source": [
        "pip install qiskit==0.45 qiskit_aer"
      ]
    },
    {
      "cell_type": "code",
      "execution_count": null,
      "metadata": {
        "id": "h5KNc7AXxRl2"
      },
      "outputs": [],
      "source": [
        "import numpy as np\n",
        "import math\n",
        "import time\n",
        "import scipy\n",
        "from matplotlib import pyplot as plt\n",
        "\n",
        "# Importing standard Qiskit libraries\n",
        "from qiskit import *\n",
        "from qiskit.quantum_info import DensityMatrix, partial_trace\n",
        "from qiskit.visualization import plot_state_city\n",
        "\n",
        "from qiskit import quantum_info\n",
        "from qiskit.extensions import UnitaryGate\n",
        "from qiskit.quantum_info.operators import Operator\n",
        "import qiskit.quantum_info as qi\n",
        "from qiskit.tools.jupyter import *\n",
        "from qiskit.visualization import *\n",
        "from qiskit.primitives import Sampler as Sampler\n",
        "from qiskit import Aer\n",
        "from qiskit import execute,  BasicAer\n",
        "from qiskit.circuit.random import random_circuit\n",
        "from qiskit import QuantumRegister\n",
        "import numpy as np\n",
        "from qiskit import ClassicalRegister\n",
        "from qiskit.circuit.library import RYGate\n",
        "\n",
        "#Paulis\n",
        "X = np.array([[0, 1], [1, 0]])\n",
        "Y = np.array([[0, -1j], [1j, 0]])\n",
        "Z = np.array([[1, 0], [0, -1]])\n",
        "I = np.identity(2)\n",
        "\n",
        "#|0> and |1>\n",
        "one = np.array([0,1])\n",
        "zero = np.array([1,0])\n",
        "\n",
        "def tensor(a,b,c):\n",
        "  \"\"\"\n",
        "  Returns the tensor product of numpy arrays a,b, and c.\n",
        "  \"\"\"\n",
        "  return np.kron(np.kron(a,b),c)\n",
        "\n",
        "def tensorbig(lst):\n",
        "    \"\"\"\n",
        "    Returns the tensor product of the arrays in lst.\n",
        "\n",
        "    Preconditions:\n",
        "    - lst contains only Numpy arrays\n",
        "    \"\"\"\n",
        "    result = lst[0]\n",
        "    for i in range(1, len(lst)):\n",
        "        result = np.kron(result, lst[i])\n",
        "    return result\n",
        "\n",
        "\n",
        "def unitary(U):\n",
        "  \"\"\"Returns whether a numpy matrix is unitary\"\"\"\n",
        "  return np.allclose(np.eye(U.shape[0]), np.dot(U, U.conjugate().T))\n",
        "\n",
        "\n",
        "def flip(counts):\n",
        "  \"\"\"\n",
        "  Given a dictionary counts with a string key, it returns\n",
        "  a new dictionary with the key reversed and the value the same.\n",
        "\n",
        "  Used for switching the endianness of the measurements.\n",
        "  \"\"\"\n",
        "  res = {}\n",
        "  for k,v in counts.items():\n",
        "    res[k[::-1]] = v\n",
        "  return res"
      ]
    },
    {
      "cell_type": "code",
      "execution_count": null,
      "metadata": {
        "id": "tq7xDzpS1zlS"
      },
      "outputs": [],
      "source": [
        "#J Parameters\n",
        "kappa = 64.5\n",
        "kappa = np.sqrt(kappa)\n",
        "gamma = np.sqrt(.4)\n",
        "\n",
        "zero2 = np.array([1,0,0,0])\n",
        "one2 =  np.array([0,1,0,0])\n",
        "two = np.array([0,0,1,0])\n",
        "three = np.array([0,0,0,1])\n",
        "\n",
        "#Destroy operator\n",
        "a = (np.outer(zero2, one2) + np.sqrt(2) * np.outer(one2, two) + np.sqrt(3) * np.outer(two, three))\n",
        "\n",
        "sigma = np.outer(zero, one)\n",
        "isigma = tensor(I, I, sigma)\n",
        "\n",
        "def next_power(n):\n",
        "    \"\"\"Finds the first number >= n that is also a\n",
        "    power of 2.\n",
        "\n",
        "    Used for figuring out the size and padding of the JMatrix.\"\"\"\n",
        "    power = 1\n",
        "    while power < n:\n",
        "        power <<= 1\n",
        "    return power\n",
        "\n",
        "def makeJ(emitters):\n",
        "  \"\"\"\n",
        "  Makes the J Matrix for an arbitary number of emitters. Returns the matrix,\n",
        "  the number of qubits, and the number of ancillas.\n",
        "\n",
        "  First, make the Lindblad operators for the cavity and the emitters. Then,\n",
        "  calculate the padding needed and make the JMatrix using np.block.\n",
        "\n",
        "  Precondition: emitters is an int\n",
        "  \"\"\"\n",
        "  a = (np.outer(zero2, one2) + np.sqrt(2) * np.outer(one2, two) + np.sqrt(3) * np.outer(two, three))\n",
        "\n",
        "  L1 = tensorbig([kappa * a] + [I for i in range(emitters)])\n",
        "\n",
        "  L_emitters = [np.array(tensorbig([I,I]+[I for j in range(i)]+ [gamma * np.outer(zero, one)]+[I for j in range(i+1, emitters)])) for i in range(emitters)]\n",
        "  elems = 2 * L1.shape[0] + sum(i.shape[0] for i in L_emitters)\n",
        "  padding = next_power(elems) - elems\n",
        "\n",
        "  chunk_size = L1.shape[0]\n",
        "\n",
        "  Jtop = np.block([[np.zeros((chunk_size, chunk_size)), np.zeros((chunk_size, padding)), L1.conjugate().T] + [i.conjugate().T for i in L_emitters]])\n",
        "  J = np.block([[Jtop], [np.zeros((padding, elems + padding))]])\n",
        "  J = np.block([[J], [L1, np.zeros((chunk_size, elems+padding-chunk_size))]])\n",
        "  for i in range(emitters):\n",
        "    J = np.block([[J], [L_emitters[i], np.zeros((chunk_size, elems+padding-chunk_size))]])\n",
        "\n",
        "\n",
        "  qubits = np.log2(J.shape[0])\n",
        "  ancilla = qubits - 2 - emitters\n",
        "  return J, qubits, ancilla"
      ]
    },
    {
      "cell_type": "code",
      "execution_count": null,
      "metadata": {
        "id": "kVVEpH_QBjG9"
      },
      "outputs": [],
      "source": [
        "#Hamiltonian Parameters\n",
        "wc = 0\n",
        "we = [200, 500, 750, 400]\n",
        "g = 100\n",
        "\n",
        "def makeH(emitters, t, N, drive = False):\n",
        "  \"\"\"\n",
        "  Makes and returns the Hamiltonian matrix.\n",
        "\n",
        "  Parameter emitters: the number of emitters\n",
        "  Precondition: emitters is a positive int.\n",
        "\n",
        "  Parameter t: the simulation time\n",
        "  Precondition: t is a positive float\n",
        "\n",
        "  Parameter N: the number of times to apply J and H\n",
        "  Precondition: N is a positive int\n",
        "\n",
        "  Parameter drive: Whether or not to have a drive\n",
        "  Precondition: drive is a boolean.\n",
        "  \"\"\"\n",
        "  #the term outside the sum\n",
        "  wd = wc-g\n",
        "  adagaN = tensorbig([np.dot(a.conjugate().T, a)] + [I for _ in range(emitters)])\n",
        "  Hn = g*adagaN\n",
        "\n",
        "  for i in range(emitters):\n",
        "    #First term in the sum\n",
        "    Hn += (we[i]-wd) * tensorbig((2 + i) * [I] + [np.outer(one, one)] + (emitters-i-1) * [I])\n",
        "\n",
        "    #The cavity-emitter coupling term\n",
        "    sigan = np.dot(tensorbig((2+i) * [I] + [sigma.conjugate().T] + (emitters-i-1) * [I]), tensorbig([a] + [I for _ in range(emitters)]))\n",
        "    sigan += np.dot(tensorbig([a.conjugate().T] + [I for _ in range(emitters)]), tensorbig((2+i) * [I] + [sigma] + (emitters-i-1) * [I] ))\n",
        "    Hn += g*sigan\n",
        "  if drive:\n",
        "    end = tensorbig([a] + [I for _ in range(emitters)]) * np.exp(1j * wc * t/N) + tensorbig([a.conjugate().T] + [I for _ in range(emitters)]) * np.exp(-1j * wc * t/N)\n",
        "    end = tensorbig([a + a.conjugate().T] + [I for _ in range(emitters)])\n",
        "    Hn = Hn + (kappa**2) * .5 *  end\n",
        "  return Hn"
      ]
    },
    {
      "cell_type": "markdown",
      "metadata": {
        "id": "B0xSzeuiaeX9"
      },
      "source": [
        "Let's turn our two matrices into quantum gates.\n",
        "\n",
        "The unitaries are represented by $e^{-iJ\\sqrt{t/N}}$ and $e^{-iHt/N}$."
      ]
    },
    {
      "cell_type": "code",
      "execution_count": null,
      "metadata": {
        "id": "ybyaG_GjX4SK"
      },
      "outputs": [],
      "source": [
        "def makeU(argl, t, N, emitters):\n",
        "  \"\"\"\n",
        "  Creates the unitary gates for JMatrix method.\n",
        "\n",
        "  Parameter argl: the indicator for which gate to make.\n",
        "  Precondition: argl is either 'j' or 'H'\n",
        "\n",
        "  Parameter t: the simulation time\n",
        "  Precondition: t is a positive float\n",
        "\n",
        "  Parameter N: the number of times to apply J and H\n",
        "  Precondition: N is a positive int\n",
        "\n",
        "  Parameter emitters: the number of emitters\n",
        "  Precondition: emitters is a positive int.\n",
        "  \"\"\"\n",
        "  if argl == \"j\":\n",
        "    return UnitaryGate(scipy.linalg.expm(-1j * makeJ(emitters)[0] * np.sqrt(t/N)))\n",
        "  if argl == \"H\":\n",
        "    return UnitaryGate(scipy.linalg.expm(-1j * makeH(emitters, t, N, drive = True) * t/N))"
      ]
    },
    {
      "cell_type": "code",
      "execution_count": null,
      "metadata": {
        "id": "WFv5UThRLKx7",
        "colab": {
          "base_uri": "https://localhost:8080/"
        },
        "outputId": "205b54c0-d949-4164-f43d-a2e7830f0fdd"
      },
      "outputs": [
        {
          "output_type": "execute_result",
          "data": {
            "text/plain": [
              "(0.634920634920635, 0.21, [0.019])"
            ]
          },
          "metadata": {},
          "execution_count": 13
        }
      ],
      "source": [
        "def trace_cav(counts):\n",
        "  \"\"\"\n",
        "  Given a counts dictionary of the full cavity-emitters system,\n",
        "  returns a new dictionary for only the cavity counts.\n",
        "\n",
        "  The cavity shold correspond to the first two indices of the key.\n",
        "  \"\"\"\n",
        "  res = {}\n",
        "  for key in counts:\n",
        "    if key[:2] in res:\n",
        "      res[key[:2]] += counts[key]\n",
        "    else:\n",
        "      res[key[:2]] = counts[key]\n",
        "  return res\n",
        "\n",
        "def trace_emit(counts, ind):\n",
        "  \"\"\"\n",
        "  Given a counts dictionary of the full cavity-emitters system,\n",
        "  returns a new dictionary for only the counts for one emitter.\n",
        "\n",
        "  Parameter ind: the emitter index. Starts from 0.\n",
        "  Precondition: ind is an int between 0 and emitters-1 inclusive.\n",
        "  \"\"\"\n",
        "  res = {\"0\": 0, \"1\": 0}\n",
        "  for key in counts:\n",
        "    if key[2+ind] == \"0\":\n",
        "      res[\"0\"] += counts[key]\n",
        "    else:\n",
        "      res[\"1\"] += counts[key]\n",
        "  return res\n",
        "\n",
        "def JmethodN(emitters = 1, start_photons = 1, t = .1, N = 100, shots = 1000, getcavcount = False):\n",
        "  \"\"\"Calculates the population and G2 for the system for a given time.\n",
        "\n",
        "  It creates a quantum circuit in Qiskit, then applies the two gates and traces\n",
        "  out the ancilla register. Then, it measures the system qubits and\n",
        "  does some post-measurement calculation to find the populations and G2.\n",
        "  \"\"\"\n",
        "\n",
        "  #Get the gates\n",
        "  Jgate, Hgate = makeU('j', t, N, emitters), makeU('H', t, N, emitters)\n",
        "\n",
        "  #Make the circuit\n",
        "  ancillas = int(makeJ(emitters)[2])\n",
        "  ancilla = QuantumRegister(ancillas, name = '0_ancilla')\n",
        "  cavity = QuantumRegister(2, name='cavity')\n",
        "  emitter = QuantumRegister(emitters, name='emitter')\n",
        "  classical = ClassicalRegister(2 + emitters)\n",
        "  circ = QuantumCircuit(ancilla, cavity, emitter, classical)\n",
        "\n",
        "  #Pump the cavity with photons.\n",
        "  if start_photons > 1:\n",
        "   circ.x(cavity[0])\n",
        "  if start_photons % 2 == 1:\n",
        "    circ.x(cavity[1])\n",
        "\n",
        "  #Apply J and H repeatedly, then trace out the ancilla.\n",
        "  circ.barrier()\n",
        "  for _ in range(N):\n",
        "    circ.reset(ancilla)\n",
        "    circ.append(Jgate, reversed([ancilla[i] for i in range(ancillas)] + [cavity[0], cavity[1]] + [emitter[i] for i in range(emitters)]))\n",
        "    circ.append(Hgate, reversed([cavity[0],cavity[1]] + [emitter[i] for i in range(emitters)]))\n",
        "\n",
        "    circ.barrier()\n",
        "  circ.reset(ancilla)\n",
        "\n",
        "  #Measure the system\n",
        "  circ.measure(range(ancillas, ancillas + 2 + emitters), range(2+emitters))\n",
        "  timestart = time.time()\n",
        "  backend = Aer.get_backend(\"qasm_simulator\")\n",
        "\n",
        "  job = execute(circ, backend, shots=shots)\n",
        "  result = job.result()\n",
        "  counts = result.get_counts()\n",
        "  counts = flip(counts)\n",
        "  cav_counts = trace_cav(counts)\n",
        "  if getcavcount:\n",
        "    return cav_counts\n",
        "  population = (3 * cav_counts.get(\"11\", 0) + 2 * cav_counts.get(\"10\", 0) + 1 * cav_counts.get(\"01\", 0))/shots\n",
        "  population2 = (3 * cav_counts.get(\"11\", 0) + 2 * cav_counts.get(\"10\", 0))/shots\n",
        "  emitvals = [trace_emit(counts, i).get(\"1\")/shots for i in range(emitters)]\n",
        "  try:\n",
        "    g2 = (6* cav_counts.get(\"11\", 0) + 2 * cav_counts.get(\"10\", 0))/(shots * (population ** 2))\n",
        "  except ZeroDivisionError:\n",
        "    g2 = 0\n",
        "\n",
        "  return g2, population, emitvals\n",
        "\n",
        "JmethodN(emitters = 1, start_photons = 1, t = .25, N = 100, shots = 1000)"
      ]
    },
    {
      "cell_type": "code",
      "execution_count": null,
      "metadata": {
        "id": "8DOif91wmCV1",
        "colab": {
          "base_uri": "https://localhost:8080/",
          "height": 1000
        },
        "collapsed": true,
        "outputId": "34e09d08-d315-4c79-baab-0b6219635c3f"
      },
      "outputs": [
        {
          "output_type": "stream",
          "name": "stdout",
          "text": [
            "Working on iteration 0\n",
            "Working on iteration 10\n",
            "Working on iteration 20\n",
            "Working on iteration 30\n",
            "Working on iteration 40\n",
            "Working on iteration 50\n",
            "Working on iteration 60\n",
            "Working on iteration 70\n",
            "Working on iteration 80\n",
            "Working on iteration 90\n",
            "Working on iteration 100\n",
            "Working on iteration 110\n",
            "Working on iteration 120\n",
            "Working on iteration 130\n",
            "Working on iteration 140\n",
            "Working on iteration 150\n",
            "Working on iteration 160\n",
            "Working on iteration 170\n",
            "Working on iteration 180\n",
            "Working on iteration 190\n",
            "Working on iteration 200\n",
            "Working on iteration 210\n",
            "Working on iteration 220\n",
            "Working on iteration 230\n",
            "Working on iteration 240\n"
          ]
        },
        {
          "output_type": "display_data",
          "data": {
            "text/plain": [
              "<Figure size 900x600 with 1 Axes>"
            ],
            "image/png": "[encoded data removed]"
          },
          "metadata": {}
        },
        {
          "output_type": "stream",
          "name": "stdout",
          "text": [
            "[1.0, 0.933, 0.85, 0.764, 0.673, 0.589, 0.491, 0.421, 0.385, 0.325, 0.338, 0.336, 0.332, 0.387, 0.384, 0.428, 0.493, 0.478, 0.502, 0.54, 0.555, 0.519, 0.509, 0.495, 0.479, 0.391, 0.404, 0.357, 0.357, 0.293, 0.347, 0.292, 0.308, 0.327, 0.326, 0.366, 0.352, 0.336, 0.35, 0.361, 0.334, 0.319, 0.316, 0.326, 0.272, 0.329, 0.309, 0.29, 0.287, 0.295, 0.259, 0.273, 0.313, 0.274, 0.241, 0.237, 0.239, 0.251, 0.241, 0.239, 0.227, 0.209, 0.206, 0.229, 0.221, 0.231, 0.243, 0.244, 0.235, 0.237, 0.251, 0.233, 0.241, 0.233, 0.188, 0.192, 0.198, 0.174, 0.167, 0.149, 0.162, 0.172, 0.178, 0.156, 0.196, 0.217, 0.207, 0.183, 0.224, 0.214, 0.204, 0.184, 0.204, 0.192, 0.167, 0.15, 0.194, 0.15, 0.155, 0.142, 0.14, 0.166, 0.173, 0.153, 0.187, 0.191, 0.177, 0.211, 0.204, 0.203, 0.226, 0.196, 0.189, 0.201, 0.197, 0.166, 0.149, 0.161, 0.174, 0.175, 0.165, 0.184, 0.178, 0.191, 0.216, 0.194, 0.22, 0.213, 0.187, 0.202, 0.209, 0.208, 0.207, 0.196, 0.192, 0.166, 0.161, 0.192, 0.192, 0.199, 0.196, 0.194, 0.207, 0.223, 0.185, 0.22, 0.215, 0.199, 0.184, 0.178, 0.189, 0.179, 0.164, 0.191, 0.193, 0.181, 0.201, 0.211, 0.226, 0.217, 0.208, 0.245, 0.224, 0.2, 0.224, 0.217, 0.173, 0.196, 0.193, 0.199, 0.165, 0.181, 0.175, 0.191, 0.169, 0.186, 0.202, 0.193, 0.203, 0.198, 0.202, 0.213, 0.203, 0.2, 0.184, 0.187, 0.21, 0.19, 0.174, 0.186, 0.19, 0.156, 0.171, 0.205, 0.197, 0.205, 0.185, 0.233, 0.214, 0.185, 0.217, 0.186, 0.215, 0.193, 0.197, 0.2, 0.192, 0.161, 0.184, 0.165, 0.198, 0.202, 0.196, 0.222, 0.219, 0.225, 0.213, 0.193, 0.216, 0.193, 0.178, 0.188, 0.207, 0.191, 0.189, 0.187, 0.185, 0.195, 0.182, 0.185, 0.189, 0.218, 0.215, 0.2, 0.207, 0.2, 0.203, 0.207, 0.195, 0.192, 0.198, 0.177, 0.17, 0.184, 0.193, 0.2, 0.181, 0.168, 0.196, 0.189]\n",
            "[[0.0, 0.01, 0.033, 0.074, 0.12, 0.19, 0.21, 0.276, 0.319, 0.356, 0.349, 0.33, 0.358, 0.3, 0.277, 0.249, 0.176, 0.139, 0.099, 0.09, 0.07, 0.045, 0.054, 0.06, 0.078, 0.117, 0.122, 0.169, 0.182, 0.178, 0.193, 0.186, 0.195, 0.174, 0.149, 0.169, 0.109, 0.129, 0.122, 0.117, 0.113, 0.105, 0.091, 0.084, 0.104, 0.088, 0.122, 0.115, 0.103, 0.11, 0.109, 0.106, 0.098, 0.102, 0.119, 0.107, 0.107, 0.092, 0.106, 0.128, 0.081, 0.114, 0.11, 0.09, 0.096, 0.091, 0.064, 0.064, 0.061, 0.073, 0.058, 0.066, 0.061, 0.085, 0.082, 0.086, 0.091, 0.085, 0.101, 0.111, 0.09, 0.095, 0.098, 0.071, 0.069, 0.066, 0.058, 0.066, 0.051, 0.041, 0.053, 0.048, 0.059, 0.065, 0.061, 0.082, 0.081, 0.088, 0.091, 0.093, 0.086, 0.08, 0.084, 0.064, 0.079, 0.065, 0.043, 0.056, 0.034, 0.043, 0.041, 0.049, 0.051, 0.077, 0.061, 0.055, 0.065, 0.071, 0.071, 0.075, 0.071, 0.061, 0.06, 0.042, 0.057, 0.05, 0.047, 0.038, 0.038, 0.044, 0.057, 0.051, 0.052, 0.065, 0.066, 0.07, 0.055, 0.08, 0.046, 0.064, 0.047, 0.038, 0.047, 0.041, 0.03, 0.048, 0.036, 0.046, 0.039, 0.05, 0.058, 0.056, 0.063, 0.056, 0.052, 0.057, 0.049, 0.043, 0.036, 0.042, 0.039, 0.034, 0.035, 0.038, 0.044, 0.035, 0.047, 0.05, 0.035, 0.045, 0.048, 0.054, 0.052, 0.056, 0.034, 0.044, 0.041, 0.031, 0.033, 0.026, 0.037, 0.031, 0.039, 0.043, 0.029, 0.044, 0.048, 0.049, 0.038, 0.041, 0.048, 0.051, 0.057, 0.052, 0.046, 0.026, 0.033, 0.047, 0.027, 0.022, 0.033, 0.027, 0.034, 0.041, 0.03, 0.033, 0.048, 0.033, 0.053, 0.035, 0.036, 0.032, 0.038, 0.025, 0.033, 0.032, 0.031, 0.032, 0.026, 0.033, 0.036, 0.032, 0.034, 0.04, 0.043, 0.039, 0.044, 0.034, 0.037, 0.039, 0.025, 0.025, 0.028, 0.025, 0.03, 0.019, 0.028, 0.019, 0.022, 0.037, 0.033, 0.032, 0.03, 0.032, 0.025, 0.041, 0.033, 0.033, 0.029, 0.023]]\n"
          ]
        }
      ],
      "source": [
        "def runN(N, emitters, start_photons = 1):\n",
        "  \"\"\"\n",
        "  Plots the measurements of the system over time.\n",
        "\n",
        "  Generates a list of times to take measurements. Then, for each times, calls\n",
        "  JmethodN and gets the populations of the cavity and emitters. Then, plots them\n",
        "  below.\n",
        "\n",
        "  Parameter N: the number of times to apply J and H each time the JMethod is run.\n",
        "  Precondition: N is a positive integer.\n",
        "\n",
        "  Parameter emitters: Number of emitters in the system\n",
        "  Precondition: emitters is a positive integer\n",
        "\n",
        "  Parameter start_photons: the number of photons to pump the cavity with.\n",
        "  Precondition: start_photons is either 0,1,2, or 3.\n",
        "  \"\"\"\n",
        "  tlist = np.linspace(0, .25, 250)\n",
        "\n",
        "  poplist = []\n",
        "  emitlist = [[] for i in range(emitters)]\n",
        "  for i in range(len(tlist)):\n",
        "    if i %10 == 0:\n",
        "      print(\"Working on iteration \" + str(i))\n",
        "    g2, pop, em = JmethodN(emitters = emitters, start_photons = start_photons, t = tlist[i], N = N)\n",
        "    poplist.append(pop)\n",
        "    for j in range(len(em)):\n",
        "      emitlist[j].append(em[j])\n",
        "\n",
        "  plt.figure(figsize=(9,6))\n",
        "  plt.plot(tlist, poplist, label = 'Cavity')\n",
        "  for j in range(len(emitlist)):\n",
        "    plt.plot(tlist, emitlist[j], label = str(j)+' Emitter')\n",
        "\n",
        "  plt.legend(labels = ['Cavity'] + ['Emitter ' + str(i) for i in range(emitters)])\n",
        "  # Adding labels and title\n",
        "  plt.xlabel('Time (ns)')\n",
        "  plt.ylabel('Population')\n",
        "\n",
        "  plt.show()\n",
        "\n",
        "  print(poplist)\n",
        "  print(emitlist)\n",
        "runN(100, 1, 1)"
      ]
    },
    {
      "cell_type": "code",
      "execution_count": null,
      "metadata": {
        "colab": {
          "base_uri": "https://localhost:8080/"
        },
        "id": "mZgOW8TvGTuC",
        "outputId": "84a46d09-121f-45bc-a5aa-de06e71f1267"
      },
      "outputs": [
        {
          "output_type": "execute_result",
          "data": {
            "text/plain": [
              "({'10': 1, '00': 441, '01': 58}, 0.2777777777777778)"
            ]
          },
          "metadata": {},
          "execution_count": 7
        }
      ],
      "source": [
        "def g2_experiment(t, shots):\n",
        "  \"\"\"\n",
        "  Subroutine to calculate g2 values. Shots should be relatively high.\n",
        "\n",
        "  Parameter t: the simulation time.\n",
        "  Precondition: t is a positive float.\n",
        "\n",
        "  Parameter shots: the number of shots to take.\n",
        "  Precondition: shots is a positive int.\n",
        "  \"\"\"\n",
        "  counts = JmethodN(emitters = 1, start_photons = 1, t = t, N = 2000, shots = shots, getcavcount=True)\n",
        "  population = (3 * counts.get(\"11\", 0) + 2 * counts.get(\"10\", 0) + 1 * counts.get(\"01\", 0))/shots\n",
        "  try:\n",
        "    g2 = (6* counts.get(\"11\", 0) + 2 * counts.get(\"10\", 0))/(shots * (population ** 2))\n",
        "  except ZeroDivisionError:\n",
        "    g2 = 0\n",
        "\n",
        "  return counts, g2\n",
        "\n",
        "g2_experiment(1.8, 500)\n",
        "\n",
        "\n"
      ]
    }
  ],
  "metadata": {
    "colab": {
      "provenance": []
    },
    "kernelspec": {
      "display_name": "Python 3",
      "name": "python3"
    },
    "language_info": {
      "name": "python"
    }
  },
  "nbformat": 4,
  "nbformat_minor": 0
}